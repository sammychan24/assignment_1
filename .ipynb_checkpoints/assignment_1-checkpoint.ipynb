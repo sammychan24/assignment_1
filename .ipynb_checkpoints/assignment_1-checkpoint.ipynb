{
 "cells": [
  {
   "cell_type": "code",
   "execution_count": 15,
   "id": "ad70fbeb",
   "metadata": {},
   "outputs": [
    {
     "name": "stdout",
     "output_type": "stream",
     "text": [
      "enter hours spent on task1 in week1: 4\n",
      "enter hours spent on task2 in week1: 5\n",
      "enter hours spent on task1 in week2: 5\n",
      "enter hours spent on task2 in week2: 7\n",
      "enter hours spent on task1 in week3: 6\n",
      "enter hours spent on task2 in week3: 5\n",
      "enter hours spent on task1 in week4: 4\n",
      "enter hours spent on task2 in week4: 6\n",
      "[{'week': '1', 'task1': 4, 'task2': 5, 'total': 9}, {'week': '2', 'task1': 5, 'task2': 7, 'total': 12}, {'week': '3', 'task1': 6, 'task2': 5, 'total': 11}, {'week': '4', 'task1': 4, 'task2': 6, 'total': 10}]\n"
     ]
    },
    {
     "data": {
      "text/html": [
       "<div>\n",
       "<style scoped>\n",
       "    .dataframe tbody tr th:only-of-type {\n",
       "        vertical-align: middle;\n",
       "    }\n",
       "\n",
       "    .dataframe tbody tr th {\n",
       "        vertical-align: top;\n",
       "    }\n",
       "\n",
       "    .dataframe thead th {\n",
       "        text-align: right;\n",
       "    }\n",
       "</style>\n",
       "<table border=\"1\" class=\"dataframe\">\n",
       "  <thead>\n",
       "    <tr style=\"text-align: right;\">\n",
       "      <th></th>\n",
       "      <th>week</th>\n",
       "      <th>task1</th>\n",
       "      <th>task2</th>\n",
       "      <th>total</th>\n",
       "    </tr>\n",
       "  </thead>\n",
       "  <tbody>\n",
       "    <tr>\n",
       "      <th>0</th>\n",
       "      <td>1</td>\n",
       "      <td>4</td>\n",
       "      <td>5</td>\n",
       "      <td>9</td>\n",
       "    </tr>\n",
       "    <tr>\n",
       "      <th>1</th>\n",
       "      <td>2</td>\n",
       "      <td>5</td>\n",
       "      <td>7</td>\n",
       "      <td>12</td>\n",
       "    </tr>\n",
       "    <tr>\n",
       "      <th>2</th>\n",
       "      <td>3</td>\n",
       "      <td>6</td>\n",
       "      <td>5</td>\n",
       "      <td>11</td>\n",
       "    </tr>\n",
       "    <tr>\n",
       "      <th>3</th>\n",
       "      <td>4</td>\n",
       "      <td>4</td>\n",
       "      <td>6</td>\n",
       "      <td>10</td>\n",
       "    </tr>\n",
       "  </tbody>\n",
       "</table>\n",
       "</div>"
      ],
      "text/plain": [
       "  week  task1  task2  total\n",
       "0    1      4      5      9\n",
       "1    2      5      7     12\n",
       "2    3      6      5     11\n",
       "3    4      4      6     10"
      ]
     },
     "execution_count": 15,
     "metadata": {},
     "output_type": "execute_result"
    }
   ],
   "source": [
    "import pandas as pd\n",
    "hrs = []\n",
    "total_hrs = 0\n",
    "week_of_the_month = ['1','2','3','4']\n",
    "for i in week_of_the_month:\n",
    "    task1_hrs = int(input('enter hours spent on task1 in week' + i + ': '))\n",
    "    task2_hrs = int(input('enter hours spent on task2 in week' + i + ': '))\n",
    "    total_hrs = (task1_hrs + task2_hrs)\n",
    "    hrs.append({'week':i,'task1':task1_hrs,'task2':task2_hrs,'total':total_hrs})\n",
    "print(hrs)\n",
    "df = pd.DataFrame(hrs)\n",
    "df.to_csv('hrs.csv',mode='w',index=False)\n",
    "df\n"
   ]
  },
  {
   "cell_type": "code",
   "execution_count": 40,
   "id": "a3324dea",
   "metadata": {},
   "outputs": [
    {
     "name": "stdout",
     "output_type": "stream",
     "text": [
      "list: \n",
      " [[1, 4, 5, 9], [2, 5, 7, 12], [3, 6, 5, 11], [4, 4, 6, 10]]\n",
      "****************************\n",
      "hours spent on task1 per week \n",
      " [4, 5, 6, 4]\n",
      "\n",
      "\n",
      "hours spent on task2 per week: \n",
      " [5, 7, 5, 6]\n",
      "\n",
      "\n",
      "total hours spent per week: \n",
      " [9, 12, 11, 10]\n",
      "\n",
      "\n",
      "avgerage hours spent per week: \n",
      " [4.5, 6.0, 5.5, 5.0]\n"
     ]
    },
    {
     "data": {
      "image/png": "[encoded data removed]",
      "text/plain": [
       "<Figure size 432x288 with 1 Axes>"
      ]
     },
     "metadata": {
      "needs_background": "light"
     },
     "output_type": "display_data"
    }
   ],
   "source": [
    "import pandas as pd\n",
    "from matplotlib import pyplot as plt\n",
    "import numpy as np\n",
    "df = pd.read_csv('hrs.csv')\n",
    "df\n",
    "whole_list = df.values.tolist()\n",
    "print('list:','\\n',whole_list)\n",
    "print('****************************')\n",
    "week = []\n",
    "task1_hrs = []\n",
    "task2_hrs = []\n",
    "total_hrs = []\n",
    "for i in xy_list:\n",
    "    week.append(i[0])\n",
    "    task1_hrs.append(i[1])\n",
    "    task2_hrs.append(i[2])\n",
    "    total_hrs.append(i[3])\n",
    "\n",
    "print(\"hours spent on task1 per week\",'\\n',task1_hrs)\n",
    "print('\\n')\n",
    "print(\"hours spent on task2 per week:\",'\\n',task2_hrs)\n",
    "print('\\n')\n",
    "print(\"total hours spent per week:\",'\\n',total_hrs)\n",
    "print('\\n')\n",
    "avg_hrs = []\n",
    "for n in total_hrs:\n",
    "    #print(n)\n",
    "    avg = n / 2\n",
    "    avg_hrs.append(avg)\n",
    "print('avgerage hours spent per week:','\\n',avg_hrs)\n",
    "\n",
    "plt.plot(week,task1_hrs,color='purple',marker='s')\n",
    "plt.plot(week,task2_hrs,color='blue',marker='s')\n",
    "plt.plot(week,avg_hrs,color='pink',linestyle='--')\n",
    "plt.legend(['hours spent on task1', 'hours spent on task2','average hours'])\n",
    "plt.xlabel(\"week of the month\")\n",
    "plt.ylabel(\"hours\")\n",
    "plt.title('my learning progress per week throughout the month')\n",
    "my_x_ticks = np.arange(1,5,1)\n",
    "plt.xticks(my_x_ticks)\n",
    "plt.show()\n"
   ]
  },
  {
   "cell_type": "code",
   "execution_count": null,
   "id": "bc4cc07f",
   "metadata": {},
   "outputs": [],
   "source": []
  }
 ],
 "metadata": {
  "kernelspec": {
   "display_name": "Python 3",
   "language": "python",
   "name": "python3"
  },
  "language_info": {
   "codemirror_mode": {
    "name": "ipython",
    "version": 3
   },
   "file_extension": ".py",
   "mimetype": "text/x-python",
   "name": "python",
   "nbconvert_exporter": "python",
   "pygments_lexer": "ipython3",
   "version": "3.8.8"
  }
 },
 "nbformat": 4,
 "nbformat_minor": 5
}
